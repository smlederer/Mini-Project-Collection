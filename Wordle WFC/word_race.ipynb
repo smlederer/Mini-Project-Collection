{
 "cells": [
  {
   "cell_type": "code",
   "execution_count": 2,
   "metadata": {},
   "outputs": [
    {
     "name": "stderr",
     "output_type": "stream",
     "text": [
      "c:\\Users\\samml\\Documents\\PyProj\\GPurp\\Mini-Project-Collection\\Wordle WFC\\files\\wordle_wfc_lib.py:10: SyntaxWarning: list indices must be integers or slices, not str; perhaps you missed a comma?\n",
      "  value_place +=  [(x_df['placement'] == w_iter+1) & (x_df['character'] == letter.upper())]['count'].item()\n"
     ]
    }
   ],
   "source": [
    "import pandas as pd\n",
    "import numpy as np\n",
    "import files.wordle_wfc_lib as wwfc\n",
    "\n",
    "word_list = pd.read_csv('files/word_list.csv')"
   ]
  },
  {
   "cell_type": "code",
   "execution_count": 17,
   "metadata": {},
   "outputs": [
    {
     "name": "stdout",
     "output_type": "stream",
     "text": [
      "for the word STATE, the winner is:\n",
      "['irate']\n",
      "for the word MUMMY, the winner is:\n",
      "['arose']\n",
      "for the word SPELL, the winner is:\n",
      "['irate']\n",
      "for the word FLASH, the winner is:\n",
      "['arose']\n",
      "for the word CLICK, the winner is:\n",
      "['arose']\n",
      "for the word CLOUD, the winner is:\n",
      "['irate']\n",
      "for the word CRUMB, the winner is:\n",
      "['tie']\n"
     ]
    }
   ],
   "source": [
    "winner = []\n",
    "\n",
    "for target_word in ('state','mummy','spell','flash','click','cloud','crumb'):\n",
    "    irate_solve = wwfc.wfc_solve(target_word,word_list,starting_word= 'irate')\n",
    "    arose_solve = wwfc.wfc_solve(target_word,word_list,starting_word= 'arose')\n",
    "\n",
    "\n",
    "    if len(irate_solve) > len(arose_solve):\n",
    "        value = ['arose']\n",
    "    elif len(irate_solve) < len(arose_solve):\n",
    "        value = ['irate']\n",
    "    else:\n",
    "        value = ['tie']\n",
    "\n",
    "    print(f'for the word {target_word.upper()}, the winner is:')\n",
    "    print(value)\n",
    "\n",
    "    winner += value\n",
    "\n"
   ]
  },
  {
   "cell_type": "code",
   "execution_count": 4,
   "metadata": {},
   "outputs": [
    {
     "name": "stdout",
     "output_type": "stream",
     "text": [
      "['irate', 'acais', 'amain', 'again']\n",
      "['arose', 'anata', 'amain', 'again']\n",
      "['cares', 'anata', 'amain', 'again']\n"
     ]
    }
   ],
   "source": [
    "print(wwfc.wfc_solve('again',word_list,starting_word= 'irate'))\n",
    "print(wwfc.wfc_solve('again',word_list,starting_word= 'arose'))\n",
    "print(wwfc.wfc_solve('again',word_list,starting_word= 'cares'))"
   ]
  }
 ],
 "metadata": {
  "kernelspec": {
   "display_name": "probenv",
   "language": "python",
   "name": "python3"
  },
  "language_info": {
   "codemirror_mode": {
    "name": "ipython",
    "version": 3
   },
   "file_extension": ".py",
   "mimetype": "text/x-python",
   "name": "python",
   "nbconvert_exporter": "python",
   "pygments_lexer": "ipython3",
   "version": "3.11.3"
  },
  "orig_nbformat": 4
 },
 "nbformat": 4,
 "nbformat_minor": 2
}
