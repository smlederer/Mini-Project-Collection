{
 "cells": [
  {
   "cell_type": "code",
   "execution_count": 363,
   "metadata": {},
   "outputs": [],
   "source": [
    "import numpy as np\n",
    "#matrix manip\n",
    "\n",
    "import matplotlib.pyplot as plt\n",
    "#plot results\n",
    "\n",
    "import winsound\n",
    "#notify when new solution found\n",
    "\n",
    "river_val = 1\n",
    "thicket_val = 0\n",
    "pre_position = []\n",
    "current_position = []\n",
    "field = []\n",
    "\n",
    "def create_grid(max_height,max_len):\n",
    "    field = np.zeros((max_height+1,max_len+1))\n",
    "    return field\n",
    "\n",
    "def get_field(x,y,field):\n",
    "    return field[cartesean_to_matrix((x,y))] \n",
    "\n",
    "def cartesean_to_matrix(pos):\n",
    "    new_pos = (pos[1],pos[0])\n",
    "    return new_pos\n",
    "\n",
    "\n",
    "def change_field(current_position,field,value):\n",
    "    field[cartesean_to_matrix(current_position)] = value\n",
    "    return field\n",
    "\n",
    "def select_start(field,override = False):\n",
    "    #find all coordinates on the \"edge\"\n",
    "    #in this case, should only really be top [y=0] and bottom [x=0] because of symmetry?\n",
    "    global current_position\n",
    "    #create a vector that has all start positions. \n",
    "    if override:\n",
    "        start = override\n",
    "    else:    \n",
    "        start_positions = []\n",
    "        for i in range(0,max_h+1):\n",
    "            start_positions.append((0,i))\n",
    "        for j in range(0,max_l+1):\n",
    "            start_positions.append((j,0))\n",
    "        start = start_positions[int(np.random.choice(len(start_positions),1))]\n",
    "    current_position = start\n",
    "    change_field(start,field,1)\n",
    "    return start, current_position\n",
    "\n",
    "\n",
    "def check_surrounding(x,y,field,match):\n",
    "    #rivers only have a degree of 2 (graph theory)\n",
    "    #maybe pass previous position when river move to go from 4 to 3 checks?\n",
    "    possible_moves = []\n",
    "    \n",
    "    for i in [[-1,0],[1,0],[0,-1],[0,1]]:\n",
    "        if 0 <= x + i[0] <= max_l:\n",
    "            if 0 <= y + i[1] <= max_h:\n",
    "                if get_field(x+i[0],y+i[1],field) == match:\n",
    "                    possible_moves.append((x+i[0],y+i[1]))\n",
    "    return possible_moves\n",
    "\n",
    "\n",
    "\n",
    "def river_move(current_pos,field):\n",
    "    global pre_position\n",
    "    global current_position\n",
    "    \n",
    "    \n",
    "    possible_moves = check_surrounding(current_position[0],current_position[1],field,thicket_val)\n",
    "    if len(possible_moves) == 0:\n",
    "        return False\n",
    "    else:\n",
    "        pre_position = current_position\n",
    "        current_position = possible_moves[int(np.random.choice(len(possible_moves),1))]\n",
    "        change_field(current_position,field,river_val)\n",
    "    return current_position\n",
    "\n",
    "\n",
    "def calculate_bonus(field):\n",
    "    thicket_value = 0\n",
    "    for i in range(0,len(field[0])):\n",
    "        for j in range(0,len(field)):\n",
    "            if get_field(i,j,field) == 0: #if it is a river (1)\n",
    "                neighbor_river = check_surrounding(i,j,field,river_val)\n",
    "                if len(neighbor_river) == 0:\n",
    "                    thicket_value += 2\n",
    "                else:\n",
    "                    thicket_value += 4 * (len(neighbor_river)) #surrounding rivers (1)\n",
    "    return thicket_value\n"
   ]
  },
  {
   "cell_type": "code",
   "execution_count": 383,
   "metadata": {},
   "outputs": [
    {
     "name": "stdout",
     "output_type": "stream",
     "text": [
      "Max_Value: 130 \n",
      " Search n: 1\n"
     ]
    },
    {
     "data": {
      "image/png": "[encoded data removed]",
      "text/plain": [
       "<Figure size 432x288 with 1 Axes>"
      ]
     },
     "metadata": {
      "needs_background": "light"
     },
     "output_type": "display_data"
    },
    {
     "name": "stdout",
     "output_type": "stream",
     "text": [
      "Max_Value: 136 \n",
      " Search n: 1\n"
     ]
    },
    {
     "data": {
      "image/png": "[encoded data removed]",
      "text/plain": [
       "<Figure size 432x288 with 1 Axes>"
      ]
     },
     "metadata": {
      "needs_background": "light"
     },
     "output_type": "display_data"
    },
    {
     "name": "stdout",
     "output_type": "stream",
     "text": [
      "Max_Value: 140 \n",
      " Search n: 1\n"
     ]
    },
    {
     "data": {
      "image/png": "[encoded data removed]",
      "text/plain": [
       "<Figure size 432x288 with 1 Axes>"
      ]
     },
     "metadata": {
      "needs_background": "light"
     },
     "output_type": "display_data"
    },
    {
     "name": "stdout",
     "output_type": "stream",
     "text": [
      "Max_Value: 144 \n",
      " Search n: 1\n"
     ]
    },
    {
     "data": {
      "image/png": "[encoded data removed]",
      "text/plain": [
       "<Figure size 432x288 with 1 Axes>"
      ]
     },
     "metadata": {
      "needs_background": "light"
     },
     "output_type": "display_data"
    },
    {
     "name": "stdout",
     "output_type": "stream",
     "text": [
      "Max_Value: 152 \n",
      " Search n: 1\n"
     ]
    },
    {
     "data": {
      "image/png": "[encoded data removed]",
      "text/plain": [
       "<Figure size 432x288 with 1 Axes>"
      ]
     },
     "metadata": {
      "needs_background": "light"
     },
     "output_type": "display_data"
    },
    {
     "name": "stdout",
     "output_type": "stream",
     "text": [
      "Max_Value: 156 \n",
      " Search n: 1\n"
     ]
    },
    {
     "data": {
      "image/png": "[encoded data removed]",
      "text/plain": [
       "<Figure size 432x288 with 1 Axes>"
      ]
     },
     "metadata": {
      "needs_background": "light"
     },
     "output_type": "display_data"
    },
    {
     "name": "stdout",
     "output_type": "stream",
     "text": [
      "Max_Value: 162 \n",
      " Search n: 1\n"
     ]
    },
    {
     "data": {
      "image/png": "[encoded data removed]",
      "text/plain": [
       "<Figure size 432x288 with 1 Axes>"
      ]
     },
     "metadata": {
      "needs_background": "light"
     },
     "output_type": "display_data"
    },
    {
     "name": "stdout",
     "output_type": "stream",
     "text": [
      "Max_Value: 166 \n",
      " Search n: 57\n"
     ]
    },
    {
     "data": {
      "image/png": "[encoded data removed]",
      "text/plain": [
       "<Figure size 432x288 with 1 Axes>"
      ]
     },
     "metadata": {
      "needs_background": "light"
     },
     "output_type": "display_data"
    },
    {
     "name": "stdout",
     "output_type": "stream",
     "text": [
      "Max_Value: 172 \n",
      " Search n: 57\n"
     ]
    },
    {
     "data": {
      "image/png": "[encoded data removed]",
      "text/plain": [
       "<Figure size 432x288 with 1 Axes>"
      ]
     },
     "metadata": {
      "needs_background": "light"
     },
     "output_type": "display_data"
    },
    {
     "name": "stdout",
     "output_type": "stream",
     "text": [
      "Max_Value: 182 \n",
      " Search n: 250\n"
     ]
    },
    {
     "data": {
      "image/png": "[encoded data removed]",
      "text/plain": [
       "<Figure size 432x288 with 1 Axes>"
      ]
     },
     "metadata": {
      "needs_background": "light"
     },
     "output_type": "display_data"
    },
    {
     "name": "stdout",
     "output_type": "stream",
     "text": [
      "Max_Value: 184 \n",
      " Search n: 2923\n"
     ]
    },
    {
     "data": {
      "image/png": "[encoded data removed]",
      "text/plain": [
       "<Figure size 432x288 with 1 Axes>"
      ]
     },
     "metadata": {
      "needs_background": "light"
     },
     "output_type": "display_data"
    },
    {
     "name": "stdout",
     "output_type": "stream",
     "text": [
      "Max_Value: 186 \n",
      " Search n: 28648\n"
     ]
    },
    {
     "data": {
      "image/png": "[encoded data removed]",
      "text/plain": [
       "<Figure size 432x288 with 1 Axes>"
      ]
     },
     "metadata": {
      "needs_background": "light"
     },
     "output_type": "display_data"
    },
    {
     "name": "stdout",
     "output_type": "stream",
     "text": [
      "Max_Value: 192 \n",
      " Search n: 28648\n"
     ]
    },
    {
     "data": {
      "image/png": "[encoded data removed]",
      "text/plain": [
       "<Figure size 432x288 with 1 Axes>"
      ]
     },
     "metadata": {
      "needs_background": "light"
     },
     "output_type": "display_data"
    },
    {
     "name": "stdout",
     "output_type": "stream",
     "text": [
      "150512\n"
     ]
    }
   ],
   "source": [
    "frequency = 2500  # Set Frequency To 2500 Hertz\n",
    "duration = 100  # Set Duration To 1000 ms == 1 second\n",
    "max_val = 0\n",
    "max_field = []\n",
    "#start_pos = (0,1)\n",
    "\n",
    "max_h = 11 #0 the lowest\n",
    "max_l = 4 #0 the lowest\n",
    "\n",
    "loop = 0\n",
    "\n",
    "try:\n",
    "    while True:\n",
    "        loop += 1\n",
    "        \n",
    "        \n",
    "\n",
    "        field = create_grid(max_h,max_l)\n",
    "        \n",
    "        step_len = np.random.randint(15,field.size+1)\n",
    "        \n",
    "        select_start(field)\n",
    "        step = 0\n",
    "        while river_move(current_position,field) is not False and step<step_len:\n",
    "\n",
    "            river_move(current_position,field)\n",
    "            step+=1\n",
    "\n",
    "            if calculate_bonus(field) > max_val:\n",
    "                max_val = calculate_bonus(field)\n",
    "                max_field = field\n",
    "\n",
    "                print('Max_Value: {0} \\n Search n: {1}'.format(max_val,loop))\n",
    "\n",
    "                plt.imshow(max_field, cmap='hot')\n",
    "                plt.show()\n",
    "                if loop>2000:\n",
    "                    winsound.Beep(frequency, duration)\n",
    "\n",
    "except KeyboardInterrupt:\n",
    "    print(loop)\n",
    "    pass\n",
    "##print(max_val)\n",
    "\n",
    "#plt.imshow(max_field, cmap='hot')\n",
    "#plt.show()"
   ]
  }
 ],
 "metadata": {
  "kernelspec": {
   "display_name": "Python 3",
   "language": "python",
   "name": "python3"
  },
  "language_info": {
   "codemirror_mode": {
    "name": "ipython",
    "version": 3
   },
   "file_extension": ".py",
   "mimetype": "text/x-python",
   "name": "python",
   "nbconvert_exporter": "python",
   "pygments_lexer": "ipython3",
   "version": "3.7.1"
  }
 },
 "nbformat": 4,
 "nbformat_minor": 2
}
